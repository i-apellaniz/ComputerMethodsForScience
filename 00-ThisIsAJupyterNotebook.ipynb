{
 "cells": [
  {
   "cell_type": "markdown",
   "metadata": {},
   "source": [
    "# Work with Jupyter (and JuliaBox) notebooks\n",
    "\n",
    "Jupyter is a community effort to join all the scientific computation work into the same user interface (UI). In this chapter we show how to interact with notebooks, how to organize your code, and finally we will learn how to use the particular features of JuliaBox.\n",
    "\n",
    "JuliaBox is basically an instance of an Ubuntu computer built for you on the cloud. You log-in and you can do whatever you want with it. Its interface is built in top of jupyter, so you have not windowing system, neither other usual tools on a modern Linux distro. But still you are provided with last builds of Julia (estable and development), Python 2, LaTeX, Git, and many more interesting tools for scientific pourposes."
   ]
  },
  {
   "cell_type": "markdown",
   "metadata": {},
   "source": [
    "It is promising, isn't it? Moreover, after some benchmarkings I did to compare a modern computer with  a JuliaBox instance, I conclude the following: [TD: add benchmarks in a table and describe it]."
   ]
  },
  {
   "cell_type": "markdown",
   "metadata": {},
   "source": [
    "## Log-in to JuliaBox\n",
    "\n",
    "Why JuliaBox and not your own machine? Don't understand us in a bad way. I prefeer to have all installed into my computer, but for the first time I think we can skip all the installation processes needed to have Julia, Git, Jupyter and the like installed in the computer. So I choose to show you how to work with this but painlessly.\n",
    "\n",
    "To log into JuliaBox go to https://juliabox.com, you will need a Google account to log in. These computer instances are deployen into Google servers and they are donated to the Julia community for free."
   ]
  },
  {
   "cell_type": "markdown",
   "metadata": {},
   "source": [
    "## The JuliaBox interface (The home screen)\n",
    "\n",
    "In top of the page once you logged-in, one can find \"Jupyter\" (A tree view of your home folder, `/home/juser/` in this case), a console, an interface to manage file uploads and downloads and another interface to set your authomatically syncronized cloud resources."
   ]
  },
  {
   "cell_type": "markdown",
   "metadata": {},
   "source": [
    "![alt text](./Assets/Screenshot from 2016-12-02 15-03-50.png)"
   ]
  },
  {
   "cell_type": "markdown",
   "metadata": {},
   "source": [
    "Here we will explain the first two, so it is up to you to investigate, understand, and set the other two. "
   ]
  },
  {
   "cell_type": "markdown",
   "metadata": {},
   "source": [
    "### Jupyter tree-view\n",
    "\n",
    "The Jupyter tree-view allows you to perform quickly any usual task that should be done using a folder-browser program, like creating and deleting files or renaming them and moving from a folder to another (this last is a bit limited for the moment)."
   ]
  },
  {
   "cell_type": "markdown",
   "metadata": {},
   "source": [
    "### The console\n",
    "\n",
    "You can perform any console task using this terminal-emulator. You can run scripts of plain Python, you can build C/Fortran/Julia code with it, you can do basically any hard job on it."
   ]
  },
  {
   "cell_type": "markdown",
   "metadata": {},
   "source": [
    "## A Jupyter notebook\n",
    "\n",
    "A Jupyter notebook is the refinement of years of community development to find a solutions to the mesh of programing work a scientific programer needs to accomplish in order to get results. And basically is that, we need results. So, an interface like this is convenient since it is what many people around the world have lead to.\n",
    "\n",
    "The building blocks of a notebook are the cells. Let's talk about the cells and do some exercises while all of us become more familiar to the interface progresivelly as we use it for different tasks."
   ]
  },
  {
   "cell_type": "code",
   "execution_count": null,
   "metadata": {
    "collapsed": true
   },
   "outputs": [],
   "source": []
  }
 ],
 "metadata": {
  "kernelspec": {
   "display_name": "Python 2",
   "language": "python",
   "name": "python2"
  },
  "language_info": {
   "codemirror_mode": {
    "name": "ipython",
    "version": 2
   },
   "file_extension": ".py",
   "mimetype": "text/x-python",
   "name": "python",
   "nbconvert_exporter": "python",
   "pygments_lexer": "ipython2",
   "version": "2.7.6"
  }
 },
 "nbformat": 4,
 "nbformat_minor": 1
}
