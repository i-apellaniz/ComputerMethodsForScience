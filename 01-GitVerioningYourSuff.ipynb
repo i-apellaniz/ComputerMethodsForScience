{
 "cells": [
  {
   "cell_type": "markdown",
   "metadata": {},
   "source": [
    "# Usage of GIT as your primary app for versioning your stuf\n",
    "\n",
    "Git is an app that keeps track of everything that's on a project folder. Everything! And connects it to your team using an up-stream that collects the changes made by them.\n",
    "\n",
    "The basic block of a git versioning history is the COMMIT. On each commit the app stores a snapshot of changed files into the hidden folder `.git/` of your working directory. All the rest of automatically stored data is also stored under this folder.\n",
    "\n",
    "The commit is associated with an USER. It has associated also a BRACH. I might have associated a TAG. The commits are also ordered by the _time_ assigned to it."
   ]
  },
  {
   "cell_type": "markdown",
   "metadata": {},
   "source": [
    "## Intall GIT and configure it\n",
    "\n",
    "To install git in your system follow the instructions on https://git-scm.com/book/en/v2/Getting-Started-Installing-Git.\n",
    "\n",
    "The first thing you have to do is to write in disk your username and your email. This will be used to track each commit of an specified user. \n",
    "\n",
    "You can set different users and emails for different projects. (The code bellow works on UNIX systems)\n",
    "```shell\n",
    "> cd path/to/your/project\n",
    "> git config user.name \"Jon Doe\"\n",
    "> git config user.email \"jon@doe.net\"\n",
    "```\n",
    "\n",
    "To see a list of the configuration settins (local if they are available, i.e., if you are in a specific folder with specific settings)\n",
    "```shell\n",
    "> git config --list\n",
    "```\n",
    "\n",
    "It is highly recomended to set a global user and email, so you don't forget to set them in newly created projects.\n",
    "```shell\n",
    "> git config --global user.name \"Jon Doe\"\n",
    "> git config --global user.email \"jon@doe.net\"\n",
    "```\n",
    "\n",
    "You can go to this site, https://git-scm.com/book/en/v2/Getting-Started-First-Time-Git-Setup, if you want to see more setting options git. Here we covered the most basic ones."
   ]
  },
  {
   "cell_type": "code",
   "execution_count": 1,
   "metadata": {
    "collapsed": false
   },
   "outputs": [
    {
     "name": "stdout",
     "output_type": "stream",
     "text": [
      "/home/juser/Personal Tutorial\n"
     ]
    }
   ],
   "source": [
    "%%bash\n",
    "\n",
    "pwd"
   ]
  },
  {
   "cell_type": "code",
   "execution_count": null,
   "metadata": {
    "collapsed": true
   },
   "outputs": [],
   "source": []
  }
 ],
 "metadata": {
  "kernelspec": {
   "display_name": "Python 2",
   "language": "python",
   "name": "python2"
  },
  "language_info": {
   "codemirror_mode": {
    "name": "ipython",
    "version": 2
   },
   "file_extension": ".py",
   "mimetype": "text/x-python",
   "name": "python",
   "nbconvert_exporter": "python",
   "pygments_lexer": "ipython2",
   "version": "2.7.6"
  }
 },
 "nbformat": 4,
 "nbformat_minor": 1
}
